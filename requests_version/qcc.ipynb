{
 "cells": [
  {
   "cell_type": "code",
   "execution_count": 82,
   "metadata": {},
   "outputs": [],
   "source": [
    "import requests\n",
    "import json\n",
    "import hashlib\n",
    "import hmac\n",
    "import re"
   ]
  },
  {
   "cell_type": "code",
   "execution_count": 77,
   "metadata": {},
   "outputs": [],
   "source": [
    "class QccHash:\n",
    "    def __init__(self):\n",
    "        self.win_tid = '8b4ebc1e4a1b8c21235f34bf9db8f1a8'\n",
    "        \n",
    "    def seeds_generator(self, s):\n",
    "        seeds = {\n",
    "            \"0\": \"W\",\n",
    "            \"1\": \"l\",\n",
    "            \"2\": \"k\",\n",
    "            \"3\": \"B\",\n",
    "            \"4\": \"Q\",\n",
    "            \"5\": \"g\",\n",
    "            \"6\": \"f\",\n",
    "            \"7\": \"i\",\n",
    "            \"8\": \"i\",\n",
    "            \"9\": \"r\",\n",
    "            \"10\": \"v\",\n",
    "            \"11\": \"6\",\n",
    "            \"12\": \"A\",\n",
    "            \"13\": \"K\",\n",
    "            \"14\": \"N\",\n",
    "            \"15\": \"k\",\n",
    "            \"16\": \"4\",\n",
    "            \"17\": \"L\",\n",
    "            \"18\": \"1\",\n",
    "            \"19\": \"8\"\n",
    "        }\n",
    "        \n",
    "        seeds_n = 20\n",
    "\n",
    "        if not s:\n",
    "            s = \"/\"\n",
    "        s = s.lower()\n",
    "        s = s + s\n",
    "\n",
    "        res = ''\n",
    "        for i in s:\n",
    "            res += seeds[str(ord(i) % seeds_n)]\n",
    "        return res\n",
    "\n",
    "    def a_default(self, url: str = '/', data: object = {}):\n",
    "        url = url.lower()\n",
    "        dataJson = json.dumps(data, ensure_ascii=False,\n",
    "                            separators=(',', ':')).lower()\n",
    "\n",
    "        hash = hmac.new(\n",
    "            bytes(self.seeds_generator(url), encoding='utf-8'),\n",
    "            bytes(url+dataJson, encoding='utf-8'),\n",
    "            hashlib.sha512\n",
    "        ).hexdigest()\n",
    "        return hash.lower()[8:28]\n",
    "\n",
    "\n",
    "    def r_default(self, url: str = '/', data: object = {}):\n",
    "        url = url.lower()\n",
    "        dataJson = json.dumps(data, ensure_ascii=False,\n",
    "                            separators=(',', ':')).lower()\n",
    "\n",
    "        payload = url+'pathString'+dataJson+self.win_tid\n",
    "        key = self.seeds_generator(url)\n",
    "\n",
    "        hash = hmac.new(\n",
    "            bytes(key, encoding='utf-8'),\n",
    "            bytes(payload, encoding='utf-8'),\n",
    "            hashlib.sha512\n",
    "        ).hexdigest()\n",
    "        return hash.lower()"
   ]
  },
  {
   "cell_type": "code",
   "execution_count": 78,
   "metadata": {},
   "outputs": [],
   "source": [
    "qcc_hash = QccHash()"
   ]
  },
  {
   "cell_type": "code",
   "execution_count": 81,
   "metadata": {},
   "outputs": [
    {
     "name": "stdout",
     "output_type": "stream",
     "text": [
      "key: d259d088cee9f9950de4\n",
      "val: 32d27ff05cb15a6bb37a134482c89d8d27dd96073146a26f57c4ce8a70a94a5af6d59d692c25295a60ef1cdb86d3096d4d7e80735a82883ec4ef89f0d5116ffa\n"
     ]
    }
   ],
   "source": [
    "req_url = '/api/search/searchcount'\n",
    "post_data = {\"count\":'true',\"filter\":\"{\\\"d\\\":[{\\\"start\\\":\\\"20210409\\\",\\\"end\\\":\\\"20230409\\\"}],\\\"r\\\":[{\\\"pr\\\":\\\"JS\\\",\\\"cc\\\":[320324]}]}\",\"minLength\":1}\n",
    "print('key: ' + qcc_hash.a_default(req_url, post_data))\n",
    "print('val: ' + qcc_hash.r_default(req_url, post_data))"
   ]
  },
  {
   "cell_type": "code",
   "execution_count": 83,
   "metadata": {},
   "outputs": [],
   "source": [
    "class QCC:\n",
    "    def __init__(self):\n",
    "        self.headers = {\n",
    "            \"User-Agent\": \"Mozilla/5.0 (Windows NT 10.0; Win64; x64) AppleWebKit/537.36 (KHTML, like Gecko) Chrome/111.0.0.0 Safari/537.36\",\n",
    "            # \"Content-Type\": \"application/json\",\n",
    "            # \"Accept\": \"application/json, text/plain, */*\",\n",
    "            \"Cookie\": \"acw_tc=700f019817126239226453381e2aa565356abdb1f11af31b2cd0f89b7c; QCCSESSID=f29c08d49a448b017bbd736157; qcc_did=a81874db-1845-4b56-b6c6-d686864e628c; UM_distinctid=18ec0575e12109e-06e0f0252bfe53-26001a51-e1000-18ec0575e1311fe; tfstk=fGqSC5gGbQAW-wyjt4B4CGCqkAnCQ7sNdpMLIJKyp0nJ9BetgYrPZJhQOSlDaz7n2XKQTJrzT0QodeFUguzzAJxIpJFhEXWlu82oxDCN_ksaE8xjxifgV2hvH-DHvv3A75vxxDCNg4ZTStm3_HM6r_wAhvkBeXFKy-KxUjdpvWh-kIHsIDhL9DBjkYkZpeHJyI3xCAeAlxQSg81nvz2m06LbFjtpfdc-yF2W8hKTcYg7E8hbF8ZjF4GtuYaUZuF4puroo6OKx-z_OyFOgUl85ANj7z16V5NopSizX9boo2E72maVjdGYVJZjrrRJyAiSNVE-5M6Tn2Ubc0rRtF24hb3s0r7ca2o7NPciyZf0O-Gz9ugvNslU7-r-l5C2cW0QJuoY2sI14ctZ1r3BRGn2AxGNhtTH8BpM5BTNydEsyxDDQt6X7e0-nxGNhtTH-4HmndWfhF8h.; CNZZDATA1254842228=1356444683-1712623935-%7C1712624221\",\n",
    "            # \"X-Pid\": \"46ca60df758fa4eacc60ca7d5a212b4d\", # 每次都不同\n",
    "            # \"816220de67f86584ca6b\": \"8acf6ac90b15338dc566bdc42bfc9e5af3e09a149d73e1b8a1909fe4348835cd3acdcabb1e4f03c1c22e978a539d2e06e4542acb6cc60bf7f8dda44d1422788a\"\n",
    "        }\n",
    "        self.URL = \"https://www.qcc.com/api/search/searchCount\"\n",
    "        self.URL_hasState = \"https://www.qcc.com/api/user/isSatisfyPortrait\"\n",
    "\n",
    "    def get_pid_tid(self): \n",
    "        res = requests.get(self.URL_hasState, headers=self.headers).text\n",
    "        try:\n",
    "            pid = re.findall(\"pid='(.*?)'\", res)[0]\n",
    "            tid = re.findall(\"tid='(.*?)'\", res)[0]\n",
    "        except:\n",
    "            pid = ''\n",
    "            tid = ''\n",
    "    \n",
    "        return pid, tid"
   ]
  },
  {
   "cell_type": "code",
   "execution_count": 84,
   "metadata": {},
   "outputs": [],
   "source": [
    "qcc = QCC()\n",
    "pid, tid = qcc.get_pid_tid()"
   ]
  },
  {
   "cell_type": "code",
   "execution_count": 85,
   "metadata": {},
   "outputs": [
    {
     "data": {
      "text/plain": [
       "'b49a78a525f4cecb0545ddd3f79c8938'"
      ]
     },
     "execution_count": 85,
     "metadata": {},
     "output_type": "execute_result"
    }
   ],
   "source": [
    "pid"
   ]
  },
  {
   "cell_type": "code",
   "execution_count": 86,
   "metadata": {},
   "outputs": [
    {
     "data": {
      "text/plain": [
       "'30c6a8b09474b647bedadd6476070f9a'"
      ]
     },
     "execution_count": 86,
     "metadata": {},
     "output_type": "execute_result"
    }
   ],
   "source": [
    "tid"
   ]
  },
  {
   "cell_type": "code",
   "execution_count": 61,
   "metadata": {},
   "outputs": [],
   "source": [
    "headers = {\n",
    "            \"User-Agent\": \"Mozilla/5.0 (Windows NT 10.0; Win64; x64) AppleWebKit/537.36 (KHTML, like Gecko) Chrome/111.0.0.0 Safari/537.36\",\n",
    "            # \"Content-Type\": \"application/json\",\n",
    "            # \"Accept\": \"application/json, text/plain, */*\",\n",
    "            \"Cookie\": \"acw_tc=700f019817126239226453381e2aa565356abdb1f11af31b2cd0f89b7c; QCCSESSID=f29c08d49a448b017bbd736157; qcc_did=a81874db-1845-4b56-b6c6-d686864e628c; UM_distinctid=18ec0575e12109e-06e0f0252bfe53-26001a51-e1000-18ec0575e1311fe; tfstk=fGqSC5gGbQAW-wyjt4B4CGCqkAnCQ7sNdpMLIJKyp0nJ9BetgYrPZJhQOSlDaz7n2XKQTJrzT0QodeFUguzzAJxIpJFhEXWlu82oxDCN_ksaE8xjxifgV2hvH-DHvv3A75vxxDCNg4ZTStm3_HM6r_wAhvkBeXFKy-KxUjdpvWh-kIHsIDhL9DBjkYkZpeHJyI3xCAeAlxQSg81nvz2m06LbFjtpfdc-yF2W8hKTcYg7E8hbF8ZjF4GtuYaUZuF4puroo6OKx-z_OyFOgUl85ANj7z16V5NopSizX9boo2E72maVjdGYVJZjrrRJyAiSNVE-5M6Tn2Ubc0rRtF24hb3s0r7ca2o7NPciyZf0O-Gz9ugvNslU7-r-l5C2cW0QJuoY2sI14ctZ1r3BRGn2AxGNhtTH8BpM5BTNydEsyxDDQt6X7e0-nxGNhtTH-4HmndWfhF8h.; CNZZDATA1254842228=1356444683-1712623935-%7C1712624221\",\n",
    "            # \"X-Pid\": \"46ca60df758fa4eacc60ca7d5a212b4d\", # 每次都不同\n",
    "            # \"816220de67f86584ca6b\": \"8acf6ac90b15338dc566bdc42bfc9e5af3e09a149d73e1b8a1909fe4348835cd3acdcabb1e4f03c1c22e978a539d2e06e4542acb6cc60bf7f8dda44d1422788a\"\n",
    "        }\n",
    "URL = \"https://www.qcc.com/api/search/searchCount\"\n",
    "URL_SP = \"https://www.qcc.com/api/user/isSatisfyPortrait\""
   ]
  },
  {
   "cell_type": "code",
   "execution_count": null,
   "metadata": {},
   "outputs": [],
   "source": []
  },
  {
   "cell_type": "code",
   "execution_count": 62,
   "metadata": {},
   "outputs": [
    {
     "name": "stdout",
     "output_type": "stream",
     "text": [
      "<Response [200]>\n"
     ]
    }
   ],
   "source": [
    "post_data = {\"userPortraitId\":\"29e12b7bd92546eea9cab661330f063b,c16220a1569d4078ac86642c5b9f72d3\"}\n",
    "response = requests.post(URL_SP, data=post_data, headers=headers)\n",
    "print(response)"
   ]
  },
  {
   "cell_type": "code",
   "execution_count": 63,
   "metadata": {},
   "outputs": [
    {
     "data": {
      "text/plain": [
       "{'User-Agent': 'Mozilla/5.0 (Windows NT 10.0; Win64; x64) AppleWebKit/537.36 (KHTML, like Gecko) Chrome/111.0.0.0 Safari/537.36',\n",
       " 'Cookie': 'acw_tc=700f019817126239226453381e2aa565356abdb1f11af31b2cd0f89b7c; QCCSESSID=f29c08d49a448b017bbd736157; qcc_did=a81874db-1845-4b56-b6c6-d686864e628c; UM_distinctid=18ec0575e12109e-06e0f0252bfe53-26001a51-e1000-18ec0575e1311fe; tfstk=fGqSC5gGbQAW-wyjt4B4CGCqkAnCQ7sNdpMLIJKyp0nJ9BetgYrPZJhQOSlDaz7n2XKQTJrzT0QodeFUguzzAJxIpJFhEXWlu82oxDCN_ksaE8xjxifgV2hvH-DHvv3A75vxxDCNg4ZTStm3_HM6r_wAhvkBeXFKy-KxUjdpvWh-kIHsIDhL9DBjkYkZpeHJyI3xCAeAlxQSg81nvz2m06LbFjtpfdc-yF2W8hKTcYg7E8hbF8ZjF4GtuYaUZuF4puroo6OKx-z_OyFOgUl85ANj7z16V5NopSizX9boo2E72maVjdGYVJZjrrRJyAiSNVE-5M6Tn2Ubc0rRtF24hb3s0r7ca2o7NPciyZf0O-Gz9ugvNslU7-r-l5C2cW0QJuoY2sI14ctZ1r3BRGn2AxGNhtTH8BpM5BTNydEsyxDDQt6X7e0-nxGNhtTH-4HmndWfhF8h.; CNZZDATA1254842228=1356444683-1712623935-%7C1712624221',\n",
       " 'X-Pid': '29e12b7bd92546eea9cab661330f063b'}"
      ]
     },
     "execution_count": 63,
     "metadata": {},
     "output_type": "execute_result"
    }
   ],
   "source": [
    "json_data = response.json()\n",
    "headers[\"X-Pid\"] = json_data[\"satisfyUserPortraitIds\"][0]\n",
    "headers"
   ]
  },
  {
   "cell_type": "code",
   "execution_count": 64,
   "metadata": {},
   "outputs": [
    {
     "name": "stdout",
     "output_type": "stream",
     "text": [
      "<Response [435]>\n"
     ]
    }
   ],
   "source": [
    "post_data = {\"count\":'true',\"filter\":\"{\\\"d\\\":[{\\\"start\\\":\\\"20210409\\\",\\\"end\\\":\\\"20230409\\\"}],\\\"r\\\":[{\\\"pr\\\":\\\"JS\\\",\\\"cc\\\":[320324]}]}\",\"minLength\":1}\n",
    "# Error 435 - Your account has not yet been verified\n",
    "# 400 Bad Request 由于被认为是客户端错误（例如，错误的请求语法、无效的请求消息帧或欺骗性的请求路由），服务器无法或不会处理请求。\n",
    "response = requests.post(URL, data=post_data, headers=headers)\n",
    "print(response)"
   ]
  },
  {
   "cell_type": "code",
   "execution_count": 65,
   "metadata": {},
   "outputs": [
    {
     "ename": "JSONDecodeError",
     "evalue": "Expecting value: line 1 column 1 (char 0)",
     "output_type": "error",
     "traceback": [
      "\u001b[1;31m---------------------------------------------------------------------------\u001b[0m",
      "\u001b[1;31mJSONDecodeError\u001b[0m                           Traceback (most recent call last)",
      "File \u001b[1;32mc:\\ProgramData\\anaconda3\\Lib\\site-packages\\requests\\models.py:971\u001b[0m, in \u001b[0;36mResponse.json\u001b[1;34m(self, **kwargs)\u001b[0m\n\u001b[0;32m    970\u001b[0m \u001b[38;5;28;01mtry\u001b[39;00m:\n\u001b[1;32m--> 971\u001b[0m     \u001b[38;5;28;01mreturn\u001b[39;00m complexjson\u001b[38;5;241m.\u001b[39mloads(\u001b[38;5;28mself\u001b[39m\u001b[38;5;241m.\u001b[39mtext, \u001b[38;5;241m*\u001b[39m\u001b[38;5;241m*\u001b[39mkwargs)\n\u001b[0;32m    972\u001b[0m \u001b[38;5;28;01mexcept\u001b[39;00m JSONDecodeError \u001b[38;5;28;01mas\u001b[39;00m e:\n\u001b[0;32m    973\u001b[0m     \u001b[38;5;66;03m# Catch JSON-related errors and raise as requests.JSONDecodeError\u001b[39;00m\n\u001b[0;32m    974\u001b[0m     \u001b[38;5;66;03m# This aliases json.JSONDecodeError and simplejson.JSONDecodeError\u001b[39;00m\n",
      "File \u001b[1;32mc:\\ProgramData\\anaconda3\\Lib\\json\\__init__.py:346\u001b[0m, in \u001b[0;36mloads\u001b[1;34m(s, cls, object_hook, parse_float, parse_int, parse_constant, object_pairs_hook, **kw)\u001b[0m\n\u001b[0;32m    343\u001b[0m \u001b[38;5;28;01mif\u001b[39;00m (\u001b[38;5;28mcls\u001b[39m \u001b[38;5;129;01mis\u001b[39;00m \u001b[38;5;28;01mNone\u001b[39;00m \u001b[38;5;129;01mand\u001b[39;00m object_hook \u001b[38;5;129;01mis\u001b[39;00m \u001b[38;5;28;01mNone\u001b[39;00m \u001b[38;5;129;01mand\u001b[39;00m\n\u001b[0;32m    344\u001b[0m         parse_int \u001b[38;5;129;01mis\u001b[39;00m \u001b[38;5;28;01mNone\u001b[39;00m \u001b[38;5;129;01mand\u001b[39;00m parse_float \u001b[38;5;129;01mis\u001b[39;00m \u001b[38;5;28;01mNone\u001b[39;00m \u001b[38;5;129;01mand\u001b[39;00m\n\u001b[0;32m    345\u001b[0m         parse_constant \u001b[38;5;129;01mis\u001b[39;00m \u001b[38;5;28;01mNone\u001b[39;00m \u001b[38;5;129;01mand\u001b[39;00m object_pairs_hook \u001b[38;5;129;01mis\u001b[39;00m \u001b[38;5;28;01mNone\u001b[39;00m \u001b[38;5;129;01mand\u001b[39;00m \u001b[38;5;129;01mnot\u001b[39;00m kw):\n\u001b[1;32m--> 346\u001b[0m     \u001b[38;5;28;01mreturn\u001b[39;00m _default_decoder\u001b[38;5;241m.\u001b[39mdecode(s)\n\u001b[0;32m    347\u001b[0m \u001b[38;5;28;01mif\u001b[39;00m \u001b[38;5;28mcls\u001b[39m \u001b[38;5;129;01mis\u001b[39;00m \u001b[38;5;28;01mNone\u001b[39;00m:\n",
      "File \u001b[1;32mc:\\ProgramData\\anaconda3\\Lib\\json\\decoder.py:337\u001b[0m, in \u001b[0;36mJSONDecoder.decode\u001b[1;34m(self, s, _w)\u001b[0m\n\u001b[0;32m    333\u001b[0m \u001b[38;5;250m\u001b[39m\u001b[38;5;124;03m\"\"\"Return the Python representation of ``s`` (a ``str`` instance\u001b[39;00m\n\u001b[0;32m    334\u001b[0m \u001b[38;5;124;03mcontaining a JSON document).\u001b[39;00m\n\u001b[0;32m    335\u001b[0m \n\u001b[0;32m    336\u001b[0m \u001b[38;5;124;03m\"\"\"\u001b[39;00m\n\u001b[1;32m--> 337\u001b[0m obj, end \u001b[38;5;241m=\u001b[39m \u001b[38;5;28mself\u001b[39m\u001b[38;5;241m.\u001b[39mraw_decode(s, idx\u001b[38;5;241m=\u001b[39m_w(s, \u001b[38;5;241m0\u001b[39m)\u001b[38;5;241m.\u001b[39mend())\n\u001b[0;32m    338\u001b[0m end \u001b[38;5;241m=\u001b[39m _w(s, end)\u001b[38;5;241m.\u001b[39mend()\n",
      "File \u001b[1;32mc:\\ProgramData\\anaconda3\\Lib\\json\\decoder.py:355\u001b[0m, in \u001b[0;36mJSONDecoder.raw_decode\u001b[1;34m(self, s, idx)\u001b[0m\n\u001b[0;32m    354\u001b[0m \u001b[38;5;28;01mexcept\u001b[39;00m \u001b[38;5;167;01mStopIteration\u001b[39;00m \u001b[38;5;28;01mas\u001b[39;00m err:\n\u001b[1;32m--> 355\u001b[0m     \u001b[38;5;28;01mraise\u001b[39;00m JSONDecodeError(\u001b[38;5;124m\"\u001b[39m\u001b[38;5;124mExpecting value\u001b[39m\u001b[38;5;124m\"\u001b[39m, s, err\u001b[38;5;241m.\u001b[39mvalue) \u001b[38;5;28;01mfrom\u001b[39;00m \u001b[38;5;28;01mNone\u001b[39;00m\n\u001b[0;32m    356\u001b[0m \u001b[38;5;28;01mreturn\u001b[39;00m obj, end\n",
      "\u001b[1;31mJSONDecodeError\u001b[0m: Expecting value: line 1 column 1 (char 0)",
      "\nDuring handling of the above exception, another exception occurred:\n",
      "\u001b[1;31mJSONDecodeError\u001b[0m                           Traceback (most recent call last)",
      "Cell \u001b[1;32mIn[65], line 3\u001b[0m\n\u001b[0;32m      1\u001b[0m \u001b[38;5;28;01mwith\u001b[39;00m \u001b[38;5;28mopen\u001b[39m(\u001b[38;5;124m\"\u001b[39m\u001b[38;5;124mout.xml\u001b[39m\u001b[38;5;124m\"\u001b[39m, \u001b[38;5;124m\"\u001b[39m\u001b[38;5;124mw\u001b[39m\u001b[38;5;124m\"\u001b[39m, encoding\u001b[38;5;241m=\u001b[39m\u001b[38;5;124m\"\u001b[39m\u001b[38;5;124mutf-8\u001b[39m\u001b[38;5;124m\"\u001b[39m) \u001b[38;5;28;01mas\u001b[39;00m f:\n\u001b[0;32m      2\u001b[0m     f\u001b[38;5;241m.\u001b[39mwrite(response\u001b[38;5;241m.\u001b[39mtext)\n\u001b[1;32m----> 3\u001b[0m response\u001b[38;5;241m.\u001b[39mjson()\n",
      "File \u001b[1;32mc:\\ProgramData\\anaconda3\\Lib\\site-packages\\requests\\models.py:975\u001b[0m, in \u001b[0;36mResponse.json\u001b[1;34m(self, **kwargs)\u001b[0m\n\u001b[0;32m    971\u001b[0m     \u001b[38;5;28;01mreturn\u001b[39;00m complexjson\u001b[38;5;241m.\u001b[39mloads(\u001b[38;5;28mself\u001b[39m\u001b[38;5;241m.\u001b[39mtext, \u001b[38;5;241m*\u001b[39m\u001b[38;5;241m*\u001b[39mkwargs)\n\u001b[0;32m    972\u001b[0m \u001b[38;5;28;01mexcept\u001b[39;00m JSONDecodeError \u001b[38;5;28;01mas\u001b[39;00m e:\n\u001b[0;32m    973\u001b[0m     \u001b[38;5;66;03m# Catch JSON-related errors and raise as requests.JSONDecodeError\u001b[39;00m\n\u001b[0;32m    974\u001b[0m     \u001b[38;5;66;03m# This aliases json.JSONDecodeError and simplejson.JSONDecodeError\u001b[39;00m\n\u001b[1;32m--> 975\u001b[0m     \u001b[38;5;28;01mraise\u001b[39;00m RequestsJSONDecodeError(e\u001b[38;5;241m.\u001b[39mmsg, e\u001b[38;5;241m.\u001b[39mdoc, e\u001b[38;5;241m.\u001b[39mpos)\n",
      "\u001b[1;31mJSONDecodeError\u001b[0m: Expecting value: line 1 column 1 (char 0)"
     ]
    }
   ],
   "source": [
    "with open(\"out.xml\", \"w\", encoding=\"utf-8\") as f:\n",
    "    f.write(response.text)\n",
    "response.json()"
   ]
  },
  {
   "cell_type": "code",
   "execution_count": null,
   "metadata": {},
   "outputs": [],
   "source": []
  },
  {
   "cell_type": "code",
   "execution_count": null,
   "metadata": {},
   "outputs": [],
   "source": []
  }
 ],
 "metadata": {
  "kernelspec": {
   "display_name": "d2l",
   "language": "python",
   "name": "python3"
  },
  "language_info": {
   "codemirror_mode": {
    "name": "ipython",
    "version": 3
   },
   "file_extension": ".py",
   "mimetype": "text/x-python",
   "name": "python",
   "nbconvert_exporter": "python",
   "pygments_lexer": "ipython3",
   "version": "3.11.4"
  }
 },
 "nbformat": 4,
 "nbformat_minor": 2
}
