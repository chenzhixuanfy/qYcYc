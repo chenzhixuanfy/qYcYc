{
 "cells": [
  {
   "cell_type": "code",
   "execution_count": 25,
   "metadata": {},
   "outputs": [],
   "source": [
    "from selenium import webdriver\n",
    "from selenium.webdriver.common.by import By\n",
    "import time\n",
    "import random\n",
    "import re\n",
    "import json"
   ]
  },
  {
   "cell_type": "code",
   "execution_count": 26,
   "metadata": {},
   "outputs": [],
   "source": [
    "# 读取中国省、直辖市、自治区列表。因为企查查不含港澳台数据，所以这里没有港澳台。\n",
    "with open(\"provinces.json\", 'r', encoding=\"utf-8\") as f:\n",
    "    provinces = json.load(f)"
   ]
  },
  {
   "cell_type": "code",
   "execution_count": 27,
   "metadata": {},
   "outputs": [],
   "source": [
    "# 由于selenium是通过driver去操作浏览器的，所以我们需要对应浏览器的driver对象\n",
    "driver = webdriver.Chrome()"
   ]
  },
  {
   "cell_type": "markdown",
   "metadata": {},
   "source": [
    "第一次使用webdriver需要登陆，但是登录的验证操作种类很多，不方便一一破解，所以选择在当前webdriver打开的浏览器上手动登录一次后再访问需要的URL。"
   ]
  },
  {
   "cell_type": "code",
   "execution_count": 28,
   "metadata": {},
   "outputs": [
    {
     "ename": "NoSuchElementException",
     "evalue": "Message: no such element: Unable to locate element: {\"method\":\"xpath\",\"selector\":\"/html/body/div[1]/div[2]/div[2]/div/div[1]/div[3]/form/div[1]/input\"}\n  (Session info: chrome=125.0.6422.142); For documentation on this error, please visit: https://www.selenium.dev/documentation/webdriver/troubleshooting/errors#no-such-element-exception\nStacktrace:\n\tGetHandleVerifier [0x00007FF6D3FF1F52+60322]\n\t(No symbol) [0x00007FF6D3F6CEC9]\n\t(No symbol) [0x00007FF6D3E27EBA]\n\t(No symbol) [0x00007FF6D3E77676]\n\t(No symbol) [0x00007FF6D3E7773C]\n\t(No symbol) [0x00007FF6D3EBE967]\n\t(No symbol) [0x00007FF6D3E9C25F]\n\t(No symbol) [0x00007FF6D3EBBC80]\n\t(No symbol) [0x00007FF6D3E9BFC3]\n\t(No symbol) [0x00007FF6D3E69617]\n\t(No symbol) [0x00007FF6D3E6A211]\n\tGetHandleVerifier [0x00007FF6D43094AD+3301629]\n\tGetHandleVerifier [0x00007FF6D43536D3+3605283]\n\tGetHandleVerifier [0x00007FF6D4349450+3563680]\n\tGetHandleVerifier [0x00007FF6D40A4326+790390]\n\t(No symbol) [0x00007FF6D3F7750F]\n\t(No symbol) [0x00007FF6D3F73404]\n\t(No symbol) [0x00007FF6D3F73592]\n\t(No symbol) [0x00007FF6D3F62F9F]\n\tBaseThreadInitThunk [0x00007FF88506257D+29]\n\tRtlUserThreadStart [0x00007FF885E6AA58+40]\n",
     "output_type": "error",
     "traceback": [
      "\u001b[1;31m---------------------------------------------------------------------------\u001b[0m",
      "\u001b[1;31mNoSuchElementException\u001b[0m                    Traceback (most recent call last)",
      "Cell \u001b[1;32mIn[28], line 3\u001b[0m\n\u001b[0;32m      1\u001b[0m driver\u001b[38;5;241m.\u001b[39mget(\u001b[38;5;124m'\u001b[39m\u001b[38;5;124mhttps://www.qichacha.com/user_login\u001b[39m\u001b[38;5;124m'\u001b[39m)\n\u001b[0;32m      2\u001b[0m \u001b[38;5;66;03m# phone_number = driver.find_element(By.NAME, 'phone-number') # 不止一个的name是phone-number，所以不能直接根据名称来搜索\u001b[39;00m\n\u001b[1;32m----> 3\u001b[0m phone_number \u001b[38;5;241m=\u001b[39m \u001b[43mdriver\u001b[49m\u001b[38;5;241;43m.\u001b[39;49m\u001b[43mfind_element\u001b[49m\u001b[43m(\u001b[49m\u001b[43mBy\u001b[49m\u001b[38;5;241;43m.\u001b[39;49m\u001b[43mXPATH\u001b[49m\u001b[43m,\u001b[49m\u001b[43m \u001b[49m\u001b[38;5;124;43m'\u001b[39;49m\u001b[38;5;124;43m/html/body/div[1]/div[2]/div[2]/div/div[1]/div[3]/form/div[1]/input\u001b[39;49m\u001b[38;5;124;43m'\u001b[39;49m\u001b[43m)\u001b[49m\n\u001b[0;32m      4\u001b[0m password \u001b[38;5;241m=\u001b[39m driver\u001b[38;5;241m.\u001b[39mfind_element(By\u001b[38;5;241m.\u001b[39mNAME, \u001b[38;5;124m'\u001b[39m\u001b[38;5;124mpassword\u001b[39m\u001b[38;5;124m'\u001b[39m)\n\u001b[0;32m      5\u001b[0m pn \u001b[38;5;241m=\u001b[39m \u001b[38;5;241m12345678910\u001b[39m\n",
      "File \u001b[1;32mc:\\Users\\chenz\\.conda\\envs\\crawler\\lib\\site-packages\\selenium\\webdriver\\remote\\webdriver.py:741\u001b[0m, in \u001b[0;36mWebDriver.find_element\u001b[1;34m(self, by, value)\u001b[0m\n\u001b[0;32m    738\u001b[0m     by \u001b[38;5;241m=\u001b[39m By\u001b[38;5;241m.\u001b[39mCSS_SELECTOR\n\u001b[0;32m    739\u001b[0m     value \u001b[38;5;241m=\u001b[39m \u001b[38;5;124mf\u001b[39m\u001b[38;5;124m'\u001b[39m\u001b[38;5;124m[name=\u001b[39m\u001b[38;5;124m\"\u001b[39m\u001b[38;5;132;01m{\u001b[39;00mvalue\u001b[38;5;132;01m}\u001b[39;00m\u001b[38;5;124m\"\u001b[39m\u001b[38;5;124m]\u001b[39m\u001b[38;5;124m'\u001b[39m\n\u001b[1;32m--> 741\u001b[0m \u001b[38;5;28;01mreturn\u001b[39;00m \u001b[38;5;28;43mself\u001b[39;49m\u001b[38;5;241;43m.\u001b[39;49m\u001b[43mexecute\u001b[49m\u001b[43m(\u001b[49m\u001b[43mCommand\u001b[49m\u001b[38;5;241;43m.\u001b[39;49m\u001b[43mFIND_ELEMENT\u001b[49m\u001b[43m,\u001b[49m\u001b[43m \u001b[49m\u001b[43m{\u001b[49m\u001b[38;5;124;43m\"\u001b[39;49m\u001b[38;5;124;43musing\u001b[39;49m\u001b[38;5;124;43m\"\u001b[39;49m\u001b[43m:\u001b[49m\u001b[43m \u001b[49m\u001b[43mby\u001b[49m\u001b[43m,\u001b[49m\u001b[43m \u001b[49m\u001b[38;5;124;43m\"\u001b[39;49m\u001b[38;5;124;43mvalue\u001b[39;49m\u001b[38;5;124;43m\"\u001b[39;49m\u001b[43m:\u001b[49m\u001b[43m \u001b[49m\u001b[43mvalue\u001b[49m\u001b[43m}\u001b[49m\u001b[43m)\u001b[49m[\u001b[38;5;124m\"\u001b[39m\u001b[38;5;124mvalue\u001b[39m\u001b[38;5;124m\"\u001b[39m]\n",
      "File \u001b[1;32mc:\\Users\\chenz\\.conda\\envs\\crawler\\lib\\site-packages\\selenium\\webdriver\\remote\\webdriver.py:347\u001b[0m, in \u001b[0;36mWebDriver.execute\u001b[1;34m(self, driver_command, params)\u001b[0m\n\u001b[0;32m    345\u001b[0m response \u001b[38;5;241m=\u001b[39m \u001b[38;5;28mself\u001b[39m\u001b[38;5;241m.\u001b[39mcommand_executor\u001b[38;5;241m.\u001b[39mexecute(driver_command, params)\n\u001b[0;32m    346\u001b[0m \u001b[38;5;28;01mif\u001b[39;00m response:\n\u001b[1;32m--> 347\u001b[0m     \u001b[38;5;28;43mself\u001b[39;49m\u001b[38;5;241;43m.\u001b[39;49m\u001b[43merror_handler\u001b[49m\u001b[38;5;241;43m.\u001b[39;49m\u001b[43mcheck_response\u001b[49m\u001b[43m(\u001b[49m\u001b[43mresponse\u001b[49m\u001b[43m)\u001b[49m\n\u001b[0;32m    348\u001b[0m     response[\u001b[38;5;124m\"\u001b[39m\u001b[38;5;124mvalue\u001b[39m\u001b[38;5;124m\"\u001b[39m] \u001b[38;5;241m=\u001b[39m \u001b[38;5;28mself\u001b[39m\u001b[38;5;241m.\u001b[39m_unwrap_value(response\u001b[38;5;241m.\u001b[39mget(\u001b[38;5;124m\"\u001b[39m\u001b[38;5;124mvalue\u001b[39m\u001b[38;5;124m\"\u001b[39m, \u001b[38;5;28;01mNone\u001b[39;00m))\n\u001b[0;32m    349\u001b[0m     \u001b[38;5;28;01mreturn\u001b[39;00m response\n",
      "File \u001b[1;32mc:\\Users\\chenz\\.conda\\envs\\crawler\\lib\\site-packages\\selenium\\webdriver\\remote\\errorhandler.py:229\u001b[0m, in \u001b[0;36mErrorHandler.check_response\u001b[1;34m(self, response)\u001b[0m\n\u001b[0;32m    227\u001b[0m         alert_text \u001b[38;5;241m=\u001b[39m value[\u001b[38;5;124m\"\u001b[39m\u001b[38;5;124malert\u001b[39m\u001b[38;5;124m\"\u001b[39m]\u001b[38;5;241m.\u001b[39mget(\u001b[38;5;124m\"\u001b[39m\u001b[38;5;124mtext\u001b[39m\u001b[38;5;124m\"\u001b[39m)\n\u001b[0;32m    228\u001b[0m     \u001b[38;5;28;01mraise\u001b[39;00m exception_class(message, screen, stacktrace, alert_text)  \u001b[38;5;66;03m# type: ignore[call-arg]  # mypy is not smart enough here\u001b[39;00m\n\u001b[1;32m--> 229\u001b[0m \u001b[38;5;28;01mraise\u001b[39;00m exception_class(message, screen, stacktrace)\n",
      "\u001b[1;31mNoSuchElementException\u001b[0m: Message: no such element: Unable to locate element: {\"method\":\"xpath\",\"selector\":\"/html/body/div[1]/div[2]/div[2]/div/div[1]/div[3]/form/div[1]/input\"}\n  (Session info: chrome=125.0.6422.142); For documentation on this error, please visit: https://www.selenium.dev/documentation/webdriver/troubleshooting/errors#no-such-element-exception\nStacktrace:\n\tGetHandleVerifier [0x00007FF6D3FF1F52+60322]\n\t(No symbol) [0x00007FF6D3F6CEC9]\n\t(No symbol) [0x00007FF6D3E27EBA]\n\t(No symbol) [0x00007FF6D3E77676]\n\t(No symbol) [0x00007FF6D3E7773C]\n\t(No symbol) [0x00007FF6D3EBE967]\n\t(No symbol) [0x00007FF6D3E9C25F]\n\t(No symbol) [0x00007FF6D3EBBC80]\n\t(No symbol) [0x00007FF6D3E9BFC3]\n\t(No symbol) [0x00007FF6D3E69617]\n\t(No symbol) [0x00007FF6D3E6A211]\n\tGetHandleVerifier [0x00007FF6D43094AD+3301629]\n\tGetHandleVerifier [0x00007FF6D43536D3+3605283]\n\tGetHandleVerifier [0x00007FF6D4349450+3563680]\n\tGetHandleVerifier [0x00007FF6D40A4326+790390]\n\t(No symbol) [0x00007FF6D3F7750F]\n\t(No symbol) [0x00007FF6D3F73404]\n\t(No symbol) [0x00007FF6D3F73592]\n\t(No symbol) [0x00007FF6D3F62F9F]\n\tBaseThreadInitThunk [0x00007FF88506257D+29]\n\tRtlUserThreadStart [0x00007FF885E6AA58+40]\n"
     ]
    }
   ],
   "source": [
    "driver.get('https://www.qichacha.com/user_login')\n",
    "# phone_number = driver.find_element(By.NAME, 'phone-number') # 不止一个的name是phone-number，所以不能直接根据名称来搜索\n",
    "phone_number = driver.find_element(By.XPATH, '/html/body/div[1]/div[2]/div[2]/div/div[1]/div[3]/form/div[1]/input')\n",
    "password = driver.find_element(By.NAME, 'password')\n",
    "pn = 12345678910\n",
    "pw = '12345678'\n",
    "phone_number.send_keys(pn)\n",
    "password.send_keys(pw)\n",
    "login_btn = driver.find_element(By.XPATH, '/html/body/div[1]/div[2]/div[2]/div/div[1]/div[3]/form/div[4]/button/strong')\n",
    "login_btn.click()"
   ]
  },
  {
   "cell_type": "markdown",
   "metadata": {},
   "source": [
    "上面这个Python块会报错，手动登录qcc即可，然后运行后面的Python块"
   ]
  },
  {
   "cell_type": "code",
   "execution_count": 29,
   "metadata": {},
   "outputs": [],
   "source": [
    "driver.get(\"https://www.qcc.com/web/search/advance?hasState=true\")"
   ]
  },
  {
   "cell_type": "markdown",
   "metadata": {},
   "source": [
    "为确保数据已经返回，每两个页面操作之间都必须有延时"
   ]
  },
  {
   "cell_type": "code",
   "execution_count": 35,
   "metadata": {},
   "outputs": [
    {
     "name": "stdout",
     "output_type": "stream",
     "text": [
      "{'东城区': 211102}\n",
      "{'东城区': 211102, '西城区': 225287}\n",
      "{'东城区': 211102, '西城区': 225287, '朝阳区': 950697}\n",
      "{'东城区': 211102, '西城区': 225287, '朝阳区': 950697, '丰台区': 515167}\n",
      "{'东城区': 211102, '西城区': 225287, '朝阳区': 950697, '丰台区': 515167, '石景山区': 139138}\n",
      "{'东城区': 211102, '西城区': 225287, '朝阳区': 950697, '丰台区': 515167, '石景山区': 139138, '海淀区': 734024}\n",
      "{'东城区': 211102, '西城区': 225287, '朝阳区': 950697, '丰台区': 515167, '石景山区': 139138, '海淀区': 734024, '门头沟区': 132981}\n",
      "{'东城区': 211102, '西城区': 225287, '朝阳区': 950697, '丰台区': 515167, '石景山区': 139138, '海淀区': 734024, '门头沟区': 132981, '房山区': 292411}\n",
      "{'东城区': 211102, '西城区': 225287, '朝阳区': 950697, '丰台区': 515167, '石景山区': 139138, '海淀区': 734024, '门头沟区': 132981, '房山区': 292411, '通州区': 376413}\n",
      "{'东城区': 211102, '西城区': 225287, '朝阳区': 950697, '丰台区': 515167, '石景山区': 139138, '海淀区': 734024, '门头沟区': 132981, '房山区': 292411, '通州区': 376413, '顺义区': 253890}\n",
      "{'东城区': 211102, '西城区': 225287, '朝阳区': 950697, '丰台区': 515167, '石景山区': 139138, '海淀区': 734024, '门头沟区': 132981, '房山区': 292411, '通州区': 376413, '顺义区': 253890, '昌平区': 432460}\n",
      "{'东城区': 211102, '西城区': 225287, '朝阳区': 950697, '丰台区': 515167, '石景山区': 139138, '海淀区': 734024, '门头沟区': 132981, '房山区': 292411, '通州区': 376413, '顺义区': 253890, '昌平区': 432460, '大兴区': 419121}\n",
      "{'东城区': 211102, '西城区': 225287, '朝阳区': 950697, '丰台区': 515167, '石景山区': 139138, '海淀区': 734024, '门头沟区': 132981, '房山区': 292411, '通州区': 376413, '顺义区': 253890, '昌平区': 432460, '大兴区': 419121, '怀柔区': 204889}\n",
      "{'东城区': 211102, '西城区': 225287, '朝阳区': 950697, '丰台区': 515167, '石景山区': 139138, '海淀区': 734024, '门头沟区': 132981, '房山区': 292411, '通州区': 376413, '顺义区': 253890, '昌平区': 432460, '大兴区': 419121, '怀柔区': 204889, '平谷区': 198827}\n",
      "{'东城区': 211102, '西城区': 225287, '朝阳区': 950697, '丰台区': 515167, '石景山区': 139138, '海淀区': 734024, '门头沟区': 132981, '房山区': 292411, '通州区': 376413, '顺义区': 253890, '昌平区': 432460, '大兴区': 419121, '怀柔区': 204889, '平谷区': 198827, '密云区': 168983}\n",
      "{'东城区': 211102, '西城区': 225287, '朝阳区': 950697, '丰台区': 515167, '石景山区': 139138, '海淀区': 734024, '门头沟区': 132981, '房山区': 292411, '通州区': 376413, '顺义区': 253890, '昌平区': 432460, '大兴区': 419121, '怀柔区': 204889, '平谷区': 198827, '密云区': 168983, '延庆区': 112713}\n",
      "{'东城区': 211102, '西城区': 225287, '朝阳区': 950697, '丰台区': 515167, '石景山区': 139138, '海淀区': 734024, '门头沟区': 132981, '房山区': 292411, '通州区': 376413, '顺义区': 253890, '昌平区': 432460, '大兴区': 419121, '怀柔区': 204889, '平谷区': 198827, '密云区': 168983, '延庆区': 112713, '北京经济技术开发区': 166533}\n",
      "{'和平区': 126278}\n",
      "{'和平区': 126278, '河东区': 171356}\n",
      "{'和平区': 126278, '河东区': 171356, '河西区': 196265}\n",
      "{'和平区': 126278, '河东区': 171356, '河西区': 196265, '南开区': 269448}\n",
      "{'和平区': 126278, '河东区': 171356, '河西区': 196265, '南开区': 269448, '河北区': 148274}\n",
      "{'和平区': 126278, '河东区': 171356, '河西区': 196265, '南开区': 269448, '河北区': 148274, '红桥区': 108380}\n",
      "{'和平区': 126278, '河东区': 171356, '河西区': 196265, '南开区': 269448, '河北区': 148274, '红桥区': 108380, '东丽区': 243954}\n",
      "{'和平区': 126278, '河东区': 171356, '河西区': 196265, '南开区': 269448, '河北区': 148274, '红桥区': 108380, '东丽区': 243954, '西青区': 241976}\n",
      "{'和平区': 126278, '河东区': 171356, '河西区': 196265, '南开区': 269448, '河北区': 148274, '红桥区': 108380, '东丽区': 243954, '西青区': 241976, '津南区': 209506}\n",
      "{'和平区': 126278, '河东区': 171356, '河西区': 196265, '南开区': 269448, '河北区': 148274, '红桥区': 108380, '东丽区': 243954, '西青区': 241976, '津南区': 209506, '北辰区': 215981}\n",
      "{'和平区': 126278, '河东区': 171356, '河西区': 196265, '南开区': 269448, '河北区': 148274, '红桥区': 108380, '东丽区': 243954, '西青区': 241976, '津南区': 209506, '北辰区': 215981, '武清区': 346789}\n",
      "{'和平区': 126278, '河东区': 171356, '河西区': 196265, '南开区': 269448, '河北区': 148274, '红桥区': 108380, '东丽区': 243954, '西青区': 241976, '津南区': 209506, '北辰区': 215981, '武清区': 346789, '宝坻区': 200178}\n",
      "{'和平区': 126278, '河东区': 171356, '河西区': 196265, '南开区': 269448, '河北区': 148274, '红桥区': 108380, '东丽区': 243954, '西青区': 241976, '津南区': 209506, '北辰区': 215981, '武清区': 346789, '宝坻区': 200178, '滨海新区': 722192}\n",
      "{'和平区': 126278, '河东区': 171356, '河西区': 196265, '南开区': 269448, '河北区': 148274, '红桥区': 108380, '东丽区': 243954, '西青区': 241976, '津南区': 209506, '北辰区': 215981, '武清区': 346789, '宝坻区': 200178, '滨海新区': 722192, '宁河区': 108769}\n",
      "{'和平区': 126278, '河东区': 171356, '河西区': 196265, '南开区': 269448, '河北区': 148274, '红桥区': 108380, '东丽区': 243954, '西青区': 241976, '津南区': 209506, '北辰区': 215981, '武清区': 346789, '宝坻区': 200178, '滨海新区': 722192, '宁河区': 108769, '静海区': 201603}\n",
      "{'和平区': 126278, '河东区': 171356, '河西区': 196265, '南开区': 269448, '河北区': 148274, '红桥区': 108380, '东丽区': 243954, '西青区': 241976, '津南区': 209506, '北辰区': 215981, '武清区': 346789, '宝坻区': 200178, '滨海新区': 722192, '宁河区': 108769, '静海区': 201603, '蓟州区': 219729}\n",
      "{'和平区': 126278, '河东区': 171356, '河西区': 196265, '南开区': 269448, '河北区': 148274, '红桥区': 108380, '东丽区': 243954, '西青区': 241976, '津南区': 209506, '北辰区': 215981, '武清区': 346789, '宝坻区': 200178, '滨海新区': 722192, '宁河区': 108769, '静海区': 201603, '蓟州区': 219729, '塘沽海洋高新技术开发区': 4334}\n",
      "{'黄浦区': 155621}\n",
      "{'黄浦区': 155621, '徐汇区': 151208}\n",
      "{'黄浦区': 155621, '徐汇区': 151208, '长宁区': 132393}\n",
      "{'黄浦区': 155621, '徐汇区': 151208, '长宁区': 132393, '静安区': 219871}\n",
      "{'黄浦区': 155621, '徐汇区': 151208, '长宁区': 132393, '静安区': 219871, '普陀区': 216829}\n"
     ]
    }
   ],
   "source": [
    "# 操作时间间隔上下界\n",
    "t_min = 1\n",
    "t_max = 2\n",
    "\n",
    "# 数据存储路径\n",
    "data_path = 'data/'\n",
    "\n",
    "for province in provinces:\n",
    "    # 输入框输入城市\n",
    "    # 每次刷新后输入框节点要重新获取\n",
    "    search_input = driver.find_element(By.XPATH, '/html/body/div/div[2]/div/div[2]/div[2]/div[2]/div[2]/div[2]/div[1]/div/input')\n",
    "    search_input.clear()# 输入框清零\n",
    "    search_input.send_keys(province)\n",
    "    search_input.click() # 确保出现勾选框\n",
    "    time.sleep(1) # 等待数据返回\n",
    "\n",
    "    parent_node_xpath = '/html/body/div/div[2]/div/div[2]/div[2]/div[2]/div[2]/div[2]/div[2]/div/div/div/div[1]/div[2]/ul/div[1]'\n",
    "    parent_node = driver.find_element(By.XPATH, parent_node_xpath)\n",
    "    time.sleep(1) # 等待数据返回\n",
    "\n",
    "    # 获取地级市子节点\n",
    "    child_nodes = parent_node.find_elements(By.XPATH, './/label/span[1]/input')\n",
    "    time.sleep(5) # 这里延时要长，不然城市列表可能没有刷新\n",
    "    \n",
    "    city_counts = {}\n",
    "    # 逐个点击这些子节点\n",
    "    for node in child_nodes:\n",
    "        # 勾选\n",
    "        node.click()\n",
    "        time.sleep(random.uniform(t_min, t_max)) # 操作太快会被发现\n",
    "\n",
    "        # 城市名\n",
    "        city_name = node.accessible_name\n",
    "        # 获取结果数\n",
    "        count_node = driver.find_element(By.CLASS_NAME, 'filter-search-left')\n",
    "        count_text = count_node.text\n",
    "        # 使用正则表达式提取数字\n",
    "        numbers = re.findall(r'\\d+', count_text)\n",
    "        # 将数字列表拼接为一个完整的数字字符串，并转为int类型\n",
    "        count = int(''.join(numbers))\n",
    "\n",
    "        city_counts[city_name] = count\n",
    "\n",
    "        print(city_counts)\n",
    "\n",
    "        # 取消勾选\n",
    "        node.click()\n",
    "        time.sleep(random.uniform(t_min, t_max))\n",
    "\n",
    "    # 数据保存\n",
    "    with open(data_path+province+'.json', \"w\", encoding=\"utf-8\") as f:\n",
    "        json.dump(city_counts, f, ensure_ascii=False, indent=4)\n",
    "    \n",
    "    # 清除搜索框\n",
    "    city_clear = driver.find_element(By.XPATH, '/html/body/div/div[2]/div/div[2]/div[2]/div[2]/div[2]/div[2]/div[1]/div/i[2]')\n",
    "    city_clear.click()\n",
    "    time.sleep(1) # 等待数据返回\n",
    "\n",
    "    driver.refresh() # 刷新浏览器，减少浏览器bug\n",
    "    time.sleep(3) # 等待数据返回\n"
   ]
  },
  {
   "cell_type": "code",
   "execution_count": null,
   "metadata": {},
   "outputs": [],
   "source": []
  }
 ],
 "metadata": {
  "kernelspec": {
   "display_name": "crawler",
   "language": "python",
   "name": "python3"
  },
  "language_info": {
   "codemirror_mode": {
    "name": "ipython",
    "version": 3
   },
   "file_extension": ".py",
   "mimetype": "text/x-python",
   "name": "python",
   "nbconvert_exporter": "python",
   "pygments_lexer": "ipython3",
   "version": "3.9.19"
  }
 },
 "nbformat": 4,
 "nbformat_minor": 2
}
